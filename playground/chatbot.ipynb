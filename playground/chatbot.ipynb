{
 "cells": [
  {
   "cell_type": "code",
   "execution_count": 1,
   "id": "febbcbd8",
   "metadata": {},
   "outputs": [],
   "source": [
    "import pandas as pd\n",
    "import numpy as np"
   ]
  },
  {
   "cell_type": "markdown",
   "id": "ac071a06",
   "metadata": {},
   "source": [
    "### Building a chatbot through Ollama"
   ]
  },
  {
   "cell_type": "code",
   "execution_count": null,
   "id": "560373ed",
   "metadata": {},
   "outputs": [],
   "source": []
  },
  {
   "cell_type": "markdown",
   "id": "af27f039",
   "metadata": {},
   "source": [
    "### Building a chatbot through OpenAI"
   ]
  },
  {
   "cell_type": "markdown",
   "id": "def3bb6f",
   "metadata": {},
   "source": [
    "### Building a chatbot through Hugging Face"
   ]
  },
  {
   "cell_type": "markdown",
   "id": "11a6e317",
   "metadata": {},
   "source": [
    "### Building a chatbot through GroqAPI"
   ]
  }
 ],
 "metadata": {
  "kernelspec": {
   "display_name": "GenAI",
   "language": "python",
   "name": "python3"
  },
  "language_info": {
   "codemirror_mode": {
    "name": "ipython",
    "version": 3
   },
   "file_extension": ".py",
   "mimetype": "text/x-python",
   "name": "python",
   "nbconvert_exporter": "python",
   "pygments_lexer": "ipython3",
   "version": "3.12.3"
  }
 },
 "nbformat": 4,
 "nbformat_minor": 5
}
